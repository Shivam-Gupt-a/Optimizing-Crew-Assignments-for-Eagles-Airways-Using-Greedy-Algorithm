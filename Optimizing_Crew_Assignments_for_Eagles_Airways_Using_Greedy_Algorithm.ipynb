{
  "nbformat": 4,
  "nbformat_minor": 0,
  "metadata": {
    "colab": {
      "provenance": []
    },
    "kernelspec": {
      "name": "python3",
      "display_name": "Python 3"
    },
    "language_info": {
      "name": "python"
    }
  },
  "cells": [
    {
      "cell_type": "markdown",
      "source": [
        "#Part1"
      ],
      "metadata": {
        "id": "Z1ZMp-1ggQkx"
      }
    },
    {
      "cell_type": "code",
      "execution_count": null,
      "metadata": {
        "colab": {
          "base_uri": "https://localhost:8080/"
        },
        "id": "GgFnqpkdrqHD",
        "outputId": "42a67cfa-c403-4e25-c9fe-04c22b3c637a"
      },
      "outputs": [
        {
          "output_type": "stream",
          "name": "stdout",
          "text": [
            "[[1. 0. 0. 1. 0. 0. 0. 1. 0. 1. 0. 0. 0. 0.]\n",
            " [0. 1. 0. 0. 1. 0. 0. 0. 1. 0. 0. 1. 0. 0.]\n",
            " [0. 0. 0. 1. 0. 0. 1. 1. 0. 1. 0. 0. 0. 0.]\n",
            " [1. 0. 0. 0. 0. 0. 0. 0. 1. 0. 1. 0. 0. 1.]\n",
            " [1. 0. 0. 0. 0. 0. 0. 0. 0. 0. 1. 0. 1. 0.]\n",
            " [0. 1. 0. 1. 0. 0. 0. 1. 0. 1. 0. 0. 0. 1.]\n",
            " [0. 0. 1. 0. 0. 1. 1. 0. 0. 0. 1. 0. 1. 0.]\n",
            " [0. 1. 0. 1. 0. 0. 0. 1. 0. 1. 0. 0. 0. 1.]\n",
            " [0. 0. 1. 1. 1. 0. 0. 0. 0. 0. 1. 1. 0. 0.]]\n"
          ]
        }
      ],
      "source": [
        "import numpy as np\n",
        "import time\n",
        "\n",
        "# Define subsets and corresponding costs\n",
        "my_subsets = [\n",
        "    {0, 3, 7, 9},\n",
        "    {1, 4, 8, 11},\n",
        "    {3, 6, 7, 9},\n",
        "    {0, 8, 10, 13},\n",
        "    {0, 10, 12},\n",
        "    {1, 3, 7, 9, 13},\n",
        "    {2, 5, 6, 10, 12},\n",
        "    {1, 3, 7, 9, 13},\n",
        "    {2, 3, 4, 10, 11}\n",
        "]\n",
        "my_costs = [45, 45, 45, 45, 35, 55, 55, 60, 60]\n",
        "\n",
        "\n",
        "my_incidence_mat = np.zeros((len(my_subsets), 14))\n",
        "\n",
        "\n",
        "for i, my_subset in enumerate(my_subsets):\n",
        "    for flight_index in my_subset:\n",
        "        my_incidence_mat[i, flight_index] = 1\n",
        "\n",
        "# Display the incidence matrix\n",
        "print(my_incidence_mat)\n"
      ]
    },
    {
      "cell_type": "markdown",
      "source": [
        "**Concept of Incidence Matrix**\n",
        "\n",
        "The fundamental role of the incidence matrix in combinatorial optimization, especially in situations such as crew assignment to flights, is significant. This matrix serves as a mathematical representation, clarifying the relationship between two sets of objects: tours (or crew assignments) and flights. Each row of the incidence matrix corresponds to a tour, while each column represents a flight. By employing binary notation, the matrix indicates whether a specific flight is included in a particular tour. For example,\n",
        "\n",
        " if the entry incidence_mat[i][j] is 1, it implies that flight j is part of tour i; conversely, a value of 0 indicates exclusion.\n",
        "\n",
        "Through careful examination of the rows of the incidence matrix, one can determine which flights are included in each tour. This knowledge is invaluable in optimization scenarios where the goal is to assign crews to flights while minimizing costs or maximizing efficiency. Essentially, the incidence matrix provides a structured method for illustrating the complex relationship between tours and flights, thereby aiding in the analysis and resolution of crew assignment challenges."
      ],
      "metadata": {
        "id": "ZK_b831wslNf"
      }
    },
    {
      "cell_type": "code",
      "source": [
        "!pip install -q pyomo\n",
        "!apt-get install -y -qq glpk-utils\n",
        "from pyomo.environ import*"
      ],
      "metadata": {
        "colab": {
          "base_uri": "https://localhost:8080/"
        },
        "id": "Z0mr2iK1s03w",
        "outputId": "72a90161-699c-4f0d-9522-25c5229d2609"
      },
      "execution_count": null,
      "outputs": [
        {
          "output_type": "stream",
          "name": "stdout",
          "text": [
            "\u001b[2K     \u001b[90m━━━━━━━━━━━━━━━━━━━━━━━━━━━━━━━━━━━━━━━━\u001b[0m \u001b[32m12.7/12.7 MB\u001b[0m \u001b[31m50.6 MB/s\u001b[0m eta \u001b[36m0:00:00\u001b[0m\n",
            "\u001b[2K     \u001b[90m━━━━━━━━━━━━━━━━━━━━━━━━━━━━━━━━━━━━━━━━\u001b[0m \u001b[32m49.6/49.6 kB\u001b[0m \u001b[31m3.5 MB/s\u001b[0m eta \u001b[36m0:00:00\u001b[0m\n",
            "\u001b[?25hSelecting previously unselected package libsuitesparseconfig5:amd64.\n",
            "(Reading database ... 121753 files and directories currently installed.)\n",
            "Preparing to unpack .../libsuitesparseconfig5_1%3a5.10.1+dfsg-4build1_amd64.deb ...\n",
            "Unpacking libsuitesparseconfig5:amd64 (1:5.10.1+dfsg-4build1) ...\n",
            "Selecting previously unselected package libamd2:amd64.\n",
            "Preparing to unpack .../libamd2_1%3a5.10.1+dfsg-4build1_amd64.deb ...\n",
            "Unpacking libamd2:amd64 (1:5.10.1+dfsg-4build1) ...\n",
            "Selecting previously unselected package libcolamd2:amd64.\n",
            "Preparing to unpack .../libcolamd2_1%3a5.10.1+dfsg-4build1_amd64.deb ...\n",
            "Unpacking libcolamd2:amd64 (1:5.10.1+dfsg-4build1) ...\n",
            "Selecting previously unselected package libglpk40:amd64.\n",
            "Preparing to unpack .../libglpk40_5.0-1_amd64.deb ...\n",
            "Unpacking libglpk40:amd64 (5.0-1) ...\n",
            "Selecting previously unselected package glpk-utils.\n",
            "Preparing to unpack .../glpk-utils_5.0-1_amd64.deb ...\n",
            "Unpacking glpk-utils (5.0-1) ...\n",
            "Setting up libsuitesparseconfig5:amd64 (1:5.10.1+dfsg-4build1) ...\n",
            "Setting up libamd2:amd64 (1:5.10.1+dfsg-4build1) ...\n",
            "Setting up libcolamd2:amd64 (1:5.10.1+dfsg-4build1) ...\n",
            "Setting up libglpk40:amd64 (5.0-1) ...\n",
            "Setting up glpk-utils (5.0-1) ...\n",
            "Processing triggers for man-db (2.10.2-1) ...\n",
            "Processing triggers for libc-bin (2.35-0ubuntu3.4) ...\n",
            "/sbin/ldconfig.real: /usr/local/lib/libtbbbind.so.3 is not a symbolic link\n",
            "\n",
            "/sbin/ldconfig.real: /usr/local/lib/libtbbmalloc_proxy.so.2 is not a symbolic link\n",
            "\n",
            "/sbin/ldconfig.real: /usr/local/lib/libtbb.so.12 is not a symbolic link\n",
            "\n",
            "/sbin/ldconfig.real: /usr/local/lib/libtbbbind_2_5.so.3 is not a symbolic link\n",
            "\n",
            "/sbin/ldconfig.real: /usr/local/lib/libtbbmalloc.so.2 is not a symbolic link\n",
            "\n",
            "/sbin/ldconfig.real: /usr/local/lib/libtbbbind_2_0.so.3 is not a symbolic link\n",
            "\n"
          ]
        }
      ]
    },
    {
      "cell_type": "markdown",
      "source": [
        "Optimization Problem: Crew Assignment\n",
        "\n",
        "The objective of the optimization problem is to allocate crews to flights while minimizing the overall cost linked with crew assignments. This problem is expressed as a binary integer programming problem, where the goal is to minimize the total cost of chosen tours.\n",
        "\n",
        "Mathematical Formulation:\n",
        "\\begin{align*}\n",
        "& \\text{Minimize} \\quad \\sum_{i=1}^{8} x_i \\cdot \\text{costs}[i] \\\n",
        "& \\text{subject to} \\\n",
        "& \\sum_{j=1}^{8} \\text{incidence_mat}[i][j] \\cdot x_j \\geq 1 \\quad \\text{for all} \\quad i \\in {1, 2, \\ldots, 8} \\\n",
        "& x_i \\in {0, 1} \\quad \\text{for all} \\quad i \\in {1, 2, \\ldots, 8}\n",
        "\\end{align*}\n",
        "\n",
        "In this formulation:\n",
        "\n",
        "xi\n",
        "  is a binary decision variable representing whether tour i\n",
        "\n",
        "is selected (1) or not (0).\n",
        "The objective is to minimize the total cost of selected tours, represented by the summation of xi\n",
        "  multiplied by the corresponding cost\n",
        "costs\n",
        "\n",
        "costs[i] for each tour i\n",
        "\n",
        "\n",
        "The constraints ensure that each flight is covered by at least one selected tour. The summation of the product of incidence matrix entries and decision variables for each tour\n",
        "\n",
        "i must be greater than or equal to 1, indicating that at least one tour covers each flight.\n",
        "\n",
        "x\n",
        "i\n",
        "\n",
        "  can take binary values, indicating whether a tour is selected (1) or not (0).\n",
        "This formulation ensures efficient crew assignment while meeting the coverage requirements for all flights and minimizing the total cost of crew assignments."
      ],
      "metadata": {
        "id": "PTVFVguIusg-"
      }
    },
    {
      "cell_type": "code",
      "source": [
        "model = ConcreteModel()\n",
        "model.x = Var(range(8),domain=Binary)\n",
        "model.obj = Objective(expr=sum(model.x[i]*my_costs[i] for i in range(8)), sense=minimize)\n",
        "model.constraints = ConstraintList()\n",
        "for i in range(8):\n",
        "    model.constraints.add(sum(my_incidence_mat[i][j] * model.x[j] for j in range(8)) >= 1)\n",
        "solver = SolverFactory('glpk', executable='/usr/bin/glpsol')\n",
        "start_time_ip = time.time()\n",
        "result = solver.solve(model)\n",
        "print(result)\n",
        "end_time_ip = time.time()\n",
        "print(\"Decision Variables:\")\n",
        "for i in range(8):\n",
        "    print(f\"x[{i}] =\", value(model.x[i]))"
      ],
      "metadata": {
        "colab": {
          "base_uri": "https://localhost:8080/"
        },
        "id": "q_y9ldEtvQ53",
        "outputId": "47bb82a4-44d7-463b-d9e7-19831cc1c54e"
      },
      "execution_count": null,
      "outputs": [
        {
          "output_type": "stream",
          "name": "stdout",
          "text": [
            "\n",
            "Problem: \n",
            "- Name: unknown\n",
            "  Lower bound: 145.0\n",
            "  Upper bound: 145.0\n",
            "  Number of objectives: 1\n",
            "  Number of constraints: 8\n",
            "  Number of variables: 8\n",
            "  Number of nonzeros: 19\n",
            "  Sense: minimize\n",
            "Solver: \n",
            "- Status: ok\n",
            "  Termination condition: optimal\n",
            "  Statistics: \n",
            "    Branch and bound: \n",
            "      Number of bounded subproblems: 1\n",
            "      Number of created subproblems: 1\n",
            "  Error rc: 0\n",
            "  Time: 0.00640106201171875\n",
            "Solution: \n",
            "- number of solutions: 0\n",
            "  number of solutions displayed: 0\n",
            "\n",
            "Decision Variables:\n",
            "x[0] = 1.0\n",
            "x[1] = 1.0\n",
            "x[2] = 0.0\n",
            "x[3] = 0.0\n",
            "x[4] = 0.0\n",
            "x[5] = 0.0\n",
            "x[6] = 1.0\n",
            "x[7] = 0.0\n"
          ]
        }
      ]
    },
    {
      "cell_type": "code",
      "source": [
        "num_crews_used = sum(value(model.x[i]) for i in range(8))\n",
        "print(\"Number of crews used:\",num_crews_used)\n",
        "print(\"Crews used:\")\n",
        "for i in range(8):\n",
        "    if value(model.x[i]) == 1:\n",
        "        print(f\"Crew {i}\")\n",
        "total_cost_ip_1=sum(value(model.x[i])*my_costs[i] for i in range(8))\n",
        "print(\"Total cost incurred in 10k INR is :\",total_cost_ip_1)"
      ],
      "metadata": {
        "colab": {
          "base_uri": "https://localhost:8080/"
        },
        "id": "kPF-oz_gvkj0",
        "outputId": "9c0c8cfa-375c-480e-ab28-dba3b59265ef"
      },
      "execution_count": null,
      "outputs": [
        {
          "output_type": "stream",
          "name": "stdout",
          "text": [
            "Number of crews used: 3.0\n",
            "Crews used:\n",
            "Crew 0\n",
            "Crew 1\n",
            "Crew 6\n",
            "Total cost incurred in 10k INR is : 145.0\n"
          ]
        }
      ]
    },
    {
      "cell_type": "markdown",
      "source": [
        "#Part2"
      ],
      "metadata": {
        "id": "ZrPYRwEkg4pm"
      }
    },
    {
      "cell_type": "markdown",
      "source": [
        "In this context, the universal set comprises all the flights requiring coverage. Referring to the provided table, we can identify the unique flights as follows:\n",
        "\n",
        "Mumbai to Chennai, Mumbai to Guwahati, Delhi to Mumbai, Delhi to Chennai, Delhi to Kolkata, Kolkata to Delhi, Chennai to Mumbai, Chennai to Kolkata, Chennai to Guwahati, Guwahati to Delhi.\n",
        "\n",
        "Therefore, the universal set comprises these flights:\n",
        "\n",
        "\n",
        "=\n",
        "{\n",
        "Mumbai to Chennai\n",
        "\n",
        ",\n",
        "Mumbai to Guwahati\n",
        "\n",
        ",\n",
        "Delhi to Mumbai\n",
        "\n",
        ",\n",
        "Delhi to Chennai\n",
        "\n",
        ",\n",
        "Delhi to Kolkata\n",
        "\n",
        ",\n",
        "Kolkata to Delhi\n",
        "\n",
        ",\n",
        "Chennai to Mumbai\n",
        "\n",
        ",\n",
        "Chennai to Kolkata\n",
        "\n",
        ",\n",
        "Chennai to Guwahati\n",
        "\n",
        ",\n",
        "Guwahati to Delhi\n",
        "}\n",
        "\n",
        "U={Mumbai to Chennai,Mumbai to Guwahati,Delhi to Mumbai,Delhi to Chennai,Delhi to Kolkata,Kolkata to Delhi,Chennai to Mumbai,Chennai to Kolkata,Chennai to Guwahati,Guwahati to Delhi}\n",
        "\n",
        "Now, let's delineate the subsets based on the provided table. Each subset denotes a crew's feasible sequence of flights. For instance:\n",
        "\n",
        "Subset 1: Crew's sequence of flights for Mumbai to Chennai, Delhi to Kolkata, and Kolkata to Delhi.\n",
        "\n",
        "Subset 2: Crew's sequence of flights for Mumbai to Guwahati, Mumbai to Guwahati, and Chennai to Kolkata.\n",
        "\n",
        "Subset 3: Crew's sequence of flights for Delhi to Mumbai, Delhi to Chennai, and Guwahati to Delhi.\n",
        "... and so forth.\n",
        "\n",
        "\n",
        "Each subset is defined by the flights assigned to the crew. For example, Subset 1 consists of flights from Mumbai to Chennai, Delhi to Kolkata, and Kolkata to Delhi, outlining the specific flights this crew is responsible for covering.\n",
        "\n",
        "The reasoning behind selecting these subsets is to guarantee the representation of feasible flight sequences for each crew. This approach aids in identifying the most cost-effective combination of crews to cover all flights efficiently. Each subset corresponds to a potential flight sequence for a crew, and our goal is to ascertain the minimum number of crews needed to cover all flights."
      ],
      "metadata": {
        "id": "2vblLwCawke_"
      }
    },
    {
      "cell_type": "code",
      "source": [
        "def greedy_weighted_set_cover(my_subsets, my_costs, my_universal_set):\n",
        "    I = set()\n",
        "    my_subsets_used = []\n",
        "    while I != set(my_universal_set):\n",
        "        cost_cover_ratio = []\n",
        "        for i in range(len(my_subsets)):\n",
        "            remaining_elements = my_subsets[i] - I\n",
        "            if len(remaining_elements) > 0:\n",
        "                ratio = my_costs[i] / len(remaining_elements)\n",
        "                cost_cover_ratio.append((ratio, i))\n",
        "        if not cost_cover_ratio:\n",
        "            break\n",
        "        min_ratio, min_ratio_index = min(cost_cover_ratio)\n",
        "        I = I.union(my_subsets[min_ratio_index])\n",
        "        my_subsets_used.append(min_ratio_index)\n",
        "    return my_subsets_used\n",
        "\n",
        "start_time_greedy = time.time()\n",
        "selected_subsets = greedy_weighted_set_cover(my_subsets, my_costs, range(14))\n",
        "end_time_greedy = time.time()\n",
        "print(\"feasible subsets are :\", selected_subsets)\n"
      ],
      "metadata": {
        "colab": {
          "base_uri": "https://localhost:8080/"
        },
        "id": "vUprbITdxF_I",
        "outputId": "2ff0ba34-f11f-42b0-b64c-e0b1e3a13ba7"
      },
      "execution_count": null,
      "outputs": [
        {
          "output_type": "stream",
          "name": "stdout",
          "text": [
            "feasible subsets are : [5, 6, 1, 4]\n"
          ]
        }
      ]
    },
    {
      "cell_type": "code",
      "source": [
        "total_cost_greedy1 = 0\n",
        "for i in selected_subsets:\n",
        "  total_cost_greedy1 = total_cost_greedy1 + my_costs[i]\n",
        "print(\"The total cost by greedy 1  in 10k INR is:\" ,total_cost_greedy1)"
      ],
      "metadata": {
        "colab": {
          "base_uri": "https://localhost:8080/"
        },
        "id": "QTi7-5OzxP_z",
        "outputId": "c2356dd4-0efd-4b50-e557-61386cc35ed9"
      },
      "execution_count": null,
      "outputs": [
        {
          "output_type": "stream",
          "name": "stdout",
          "text": [
            "The total cost by greedy 1  in 10k INR is: 190\n"
          ]
        }
      ]
    },
    {
      "cell_type": "markdown",
      "source": [
        "#Part3"
      ],
      "metadata": {
        "id": "AH9Uh74VhXdN"
      }
    },
    {
      "cell_type": "code",
      "source": [
        "updated_incidence_mat = np.delete(my_incidence_mat, 5, axis=1)  # Remove the 6th column (index 5)\n",
        "\n",
        "model = ConcreteModel()\n",
        "model.x = Var(range(8), domain=Binary)\n",
        "model.obj = Objective(expr=sum(model.x[i]*my_costs[i] for i in range(8)), sense=minimize)\n",
        "model.constraints = ConstraintList()\n",
        "for i in range(8):\n",
        "    model.constraints.add(sum(updated_incidence_mat[i][j] * model.x[j] for j in range(7)) >= 1)\n",
        "solver = SolverFactory('glpk', executable='/usr/bin/glpsol')\n",
        "start_time_ip1 = time.time()\n",
        "result = solver.solve(model)\n",
        "end_time_ip1 = time.time()\n",
        "\n",
        "num_crews_used = sum(value(model.x[i]) for i in range(8))\n",
        "print(\"Number of crews used:\", num_crews_used)\n",
        "\n",
        "print(\"Crews used:\")\n",
        "for i in range(8):\n",
        "    if value(model.x[i]) == 1:\n",
        "        print(f\"Crew {i}\")\n",
        "\n",
        "total_cost_lp2 = sum(value(model.x[i]) * my_costs[i] for i in range(8))\n",
        "print(\"Total cost incurred:\", total_cost_lp2)"
      ],
      "metadata": {
        "colab": {
          "base_uri": "https://localhost:8080/"
        },
        "id": "ZBVnNOJix9id",
        "outputId": "e73e819b-746b-4add-ce81-d251a0f4337e"
      },
      "execution_count": null,
      "outputs": [
        {
          "output_type": "stream",
          "name": "stdout",
          "text": [
            "Number of crews used: 3.0\n",
            "Crews used:\n",
            "Crew 0\n",
            "Crew 1\n",
            "Crew 5\n",
            "Total cost incurred: 145.0\n"
          ]
        }
      ]
    },
    {
      "cell_type": "code",
      "source": [
        "# Defining the updated subsets and costs (excluding Chennai to Guwahati)\n",
        "subsets_without_chennai_guwahati = [\n",
        "    {0, 3, 7, 9},\n",
        "    {1, 4, 8, 11},\n",
        "    {3, 6, 7, 9},\n",
        "    {0, 8, 10, 13},\n",
        "    {0, 10, 12},\n",
        "    {1, 3, 7, 9, 13},\n",
        "    {2, 5, 6, 10, 12},\n",
        "    {1, 3, 7, 9, 13},\n",
        "    {2, 3, 4, 10, 11}]\n",
        "\n",
        "costs_without_chennai_guwahati = [45, 45, 45, 45, 35, 55, 55, 60, 60]\n",
        "# Calling the greedy algorithm with updated subsets and costs\n",
        "start_time_greedy1= time.time()\n",
        "selected_subsets_greedy = greedy_weighted_set_cover(subsets_without_chennai_guwahati, costs_without_chennai_guwahati, range(14))\n",
        "print(\"Feasible subsets using Greedy Algorithm are:\", selected_subsets_greedy)\n",
        "end_time_greedy1 = time.time()\n",
        "total_cost_greedy2 = 0\n",
        "for i in selected_subsets_greedy:\n",
        "  total_cost_greedy2 = total_cost_greedy2 + my_costs[i]\n",
        "print(\"The total cost in greedy 2 in 10k INR is:\" ,total_cost_greedy2)"
      ],
      "metadata": {
        "colab": {
          "base_uri": "https://localhost:8080/"
        },
        "id": "Q36z8y-ryURv",
        "outputId": "15fbee65-b5e8-4621-9967-253e00e68edf"
      },
      "execution_count": null,
      "outputs": [
        {
          "output_type": "stream",
          "name": "stdout",
          "text": [
            "Feasible subsets using Greedy Algorithm are: [5, 6, 1, 4]\n",
            "The total cost in greedy 2 in 10k INR is: 190\n"
          ]
        }
      ]
    },
    {
      "cell_type": "markdown",
      "source": [
        "#Part4"
      ],
      "metadata": {
        "id": "NHYiV69hhbSQ"
      }
    },
    {
      "cell_type": "markdown",
      "source": [
        "# 1st case"
      ],
      "metadata": {
        "id": "1dvHwpRdc2K2"
      }
    },
    {
      "cell_type": "code",
      "source": [
        "running_time_ip =end_time_ip-start_time_ip\n",
        "objective_value_ip =total_cost_ip_1\n",
        "running_time_greedy =end_time_greedy-start_time_greedy\n",
        "objective_value_greedy=total_cost_greedy1\n",
        "\n",
        "ratio_objective_values =objective_value_ip/objective_value_greedy\n",
        "\n",
        "print(\"The Runnig time required using IP solver is:\",running_time_ip)\n",
        "print(\"The Running Time required Using Greedy Algorithm IS\", running_time_greedy)\n",
        "print(\"The Ratio Obtained For Objectives OF IP to Greedy IS:\",ratio_objective_values)"
      ],
      "metadata": {
        "colab": {
          "base_uri": "https://localhost:8080/"
        },
        "id": "eK_c5Ku7y2SU",
        "outputId": "851395f1-dc73-4c5a-ed44-d45d390ab972"
      },
      "execution_count": null,
      "outputs": [
        {
          "output_type": "stream",
          "name": "stdout",
          "text": [
            "The Runnig time required using IP solver is: 0.08343648910522461\n",
            "The Running Time required Using Greedy Algorithm IS 0.0006184577941894531\n",
            "The Ratio Obtained For Objectives OF IP to Greedy IS: 0.7631578947368421\n"
          ]
        }
      ]
    },
    {
      "cell_type": "markdown",
      "source": [
        "# 2nd case"
      ],
      "metadata": {
        "id": "ZFn9HZ9Hc4e9"
      }
    },
    {
      "cell_type": "code",
      "source": [
        "running_time_ip =end_time_ip1-start_time_ip1\n",
        "objective_value_ip =total_cost_lp2\n",
        "running_time_greedy =end_time_greedy1-start_time_greedy1\n",
        "objective_value_greedy=total_cost_greedy2\n",
        "\n",
        "ratio_objective_values =objective_value_ip/objective_value_greedy\n",
        "\n",
        "print(\"The Runnig time required using IP solver is\",running_time_ip)\n",
        "print(\"The Running Time required Using Greedy Algorithm IS\", running_time_greedy)\n",
        "print(\"The Ratio Obtained For Objectives OF IP to Greedy IS:\",ratio_objective_values)"
      ],
      "metadata": {
        "colab": {
          "base_uri": "https://localhost:8080/"
        },
        "id": "DPgjJ2p8zah_",
        "outputId": "c889e64f-b852-45fe-e370-49bd6cabdcad"
      },
      "execution_count": null,
      "outputs": [
        {
          "output_type": "stream",
          "name": "stdout",
          "text": [
            "The Runnig time required using IP solver is 0.012954950332641602\n",
            "The Running Time required Using Greedy Algorithm IS 0.0006573200225830078\n",
            "The Ratio Obtained For Objectives OF IP to Greedy IS: 0.7631578947368421\n"
          ]
        }
      ]
    }
  ]
}